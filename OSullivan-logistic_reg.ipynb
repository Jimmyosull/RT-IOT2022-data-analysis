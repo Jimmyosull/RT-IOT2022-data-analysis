{
 "cells": [
  {
   "cell_type": "code",
   "execution_count": 1,
   "metadata": {},
   "outputs": [],
   "source": [
    "# Imports\n",
    "from math import sqrt, exp, pi\n",
    "import numpy as np\n",
    "from ucimlrepo import fetch_ucirepo"
   ]
  },
  {
   "cell_type": "code",
   "execution_count": 2,
   "metadata": {},
   "outputs": [],
   "source": [
    "import pickle\n",
    "import os\n",
    "\n",
    "# Check if data exists, download if required\n",
    "# save to disk after download to speed up on between runs\n",
    "\n",
    "if os.path.exists(\"./data.pkl\"):\n",
    "    with open(\"./data.pkl\", 'rb') as fp:\n",
    "        rt_iot2022 = pickle.load(fp)\n",
    "else:\n",
    "    rt_iot2022 = fetch_ucirepo(id=942)\n",
    "    with open(\"./data.pkl\", 'wb') as fp:\n",
    "        pickle.dump(rt_iot2022, fp)"
   ]
  },
  {
   "cell_type": "code",
   "execution_count": 3,
   "metadata": {},
   "outputs": [
    {
     "name": "stderr",
     "output_type": "stream",
     "text": [
      "/tmp/ipykernel_1508879/875652746.py:7: FutureWarning: Series.__getitem__ treating keys as positions is deprecated. In a future version, integer keys will always be treated as labels (consistent with DataFrame behavior). To access a value by position, use `ser.iloc[pos]`\n",
      "  if unique[i] <= 1:\n"
     ]
    },
    {
     "name": "stdout",
     "output_type": "stream",
     "text": [
      "Removing bwd_URG_flag_count\n"
     ]
    }
   ],
   "source": [
    "# Remove axes that don't contribute to data, and get labels\n",
    "features = rt_iot2022.data.features\n",
    "targets = rt_iot2022.data.targets\n",
    "\n",
    "unique = features.nunique(axis=0)\n",
    "for i in range(len(unique)):\n",
    "    if unique[i] <= 1:\n",
    "        print(\"Removing\", features.axes[1][i])\n",
    "        del features[features.axes[1][i]]\n",
    "# bwd_URG_flag count is always the same, usually removed\n",
    "\n",
    "# Get labels for data (attack or normal behavior)\n",
    "normal_patterns = [\"MQTT_Publish\", \"Thing_Speak\", \"Wipro_bulb\", \"Amazon-Alexa\"]\n",
    "y_bool = [int(x in normal_patterns) for x in targets.values]"
   ]
  },
  {
   "cell_type": "code",
   "execution_count": 4,
   "metadata": {},
   "outputs": [],
   "source": [
    "# convert string to numerical\n",
    "unique_service = list(features[\"service\"].unique())\n",
    "unique_proto = list(features[\"proto\"].unique())\n",
    "for i in range(len(features[\"service\"])):\n",
    "    features.loc[i, \"service\"] = unique_service.index(features[\"service\"][i])\n",
    "    features.loc[i, \"proto\"] = unique_proto.index(features[\"proto\"][i])"
   ]
  },
  {
   "cell_type": "code",
   "execution_count": 5,
   "metadata": {},
   "outputs": [],
   "source": [
    "# use only continous vars\n",
    "continuous_vars = rt_iot2022.variables[rt_iot2022.variables['type'] == \"Continuous\"]['name'].tolist()\n",
    "features = features[continuous_vars]"
   ]
  },
  {
   "cell_type": "code",
   "execution_count": 6,
   "metadata": {},
   "outputs": [
    {
     "data": {
      "text/plain": [
       "(123117, 57)"
      ]
     },
     "execution_count": 6,
     "metadata": {},
     "output_type": "execute_result"
    }
   ],
   "source": [
    "# fit all data from -1 to 1\n",
    "def normalize_axis(axis):\n",
    "    return (axis - axis.min()) / (axis.max() - axis.min())\n",
    "\n",
    "X = features.values\n",
    "X = X.T\n",
    "for idx in range(len(X)):\n",
    "    X[idx] = normalize_axis(X[idx]) \n",
    "X = X.T\n",
    "X = X.astype('float64')\n",
    "\n",
    "X.shape"
   ]
  },
  {
   "cell_type": "code",
   "execution_count": 7,
   "metadata": {},
   "outputs": [],
   "source": [
    "# Split data into train/test sets\n",
    "y = np.array(y_bool)\n",
    "np.random.seed(2)\n",
    "\n",
    "test_split = .2\n",
    "test_samples = int(len(X) * test_split)\n",
    "perm  = np.random.permutation(len(X))\n",
    "X = X[perm]\n",
    "y = y[perm]\n",
    "\n",
    "x_test = X[0:test_samples]\n",
    "y_test = y[0:test_samples]\n",
    "x_train  = X[test_samples:]\n",
    "y_train  = y[test_samples:]"
   ]
  },
  {
   "cell_type": "code",
   "execution_count": 12,
   "metadata": {},
   "outputs": [],
   "source": [
    "from logistic_reg import LogisticReg\n",
    "\n",
    "model = LogisticReg()\n",
    "model.fit(x_train, y_train, 500, 30)"
   ]
  },
  {
   "cell_type": "code",
   "execution_count": 13,
   "metadata": {},
   "outputs": [
    {
     "name": "stdout",
     "output_type": "stream",
     "text": [
      "finished in 0.004300594329833984\n",
      "pos_acc: 0.8536316947909024, neg_acc: 0.9929670731150386\n",
      "Naive bayes accuracy is: 0.9775413231531495\n",
      "Balanced Acc is:  0.9232993839529705\n"
     ]
    }
   ],
   "source": [
    "import time\n",
    "\n",
    "\n",
    "start = time.time()\n",
    "predicted = model.predict(x_test)\n",
    "print(f\"finished in {time.time() - start}\")\n",
    "\n",
    "true_positive = 0\n",
    "true_negative = 0\n",
    "false_positive = 0\n",
    "false_negative = 0\n",
    "for i in range(len(predicted)):\n",
    "    if predicted[i] == 1:\n",
    "        if predicted[i] == y_test[i]:\n",
    "            true_positive += 1\n",
    "        else:\n",
    "            false_positive += 1\n",
    "    elif predicted[i] == 0:\n",
    "        if predicted[i] == y_test[i]:\n",
    "            true_negative += 1\n",
    "        else:\n",
    "            false_negative += 1\n",
    "\n",
    "pos_acc = true_positive / (true_positive + false_positive)\n",
    "neg_acc = true_negative / (true_negative + false_negative)\n",
    "\n",
    "print(f\"pos_acc: {pos_acc}, neg_acc: {neg_acc}\")\n",
    "\n",
    "print(\"Naive bayes accuracy is:\", (true_positive + true_negative)/len(predicted))\n",
    "print(\"Balanced Acc is: \", (pos_acc+neg_acc)/2)\n",
    "\n"
   ]
  },
  {
   "cell_type": "code",
   "execution_count": 10,
   "metadata": {},
   "outputs": [
    {
     "data": {
      "text/plain": [
       "[<matplotlib.lines.Line2D at 0x7ea5dc106e70>]"
      ]
     },
     "execution_count": 10,
     "metadata": {},
     "output_type": "execute_result"
    },
    {
     "data": {
      "image/png": "[encoded data removed]",
      "text/plain": [
       "<Figure size 640x480 with 1 Axes>"
      ]
     },
     "metadata": {},
     "output_type": "display_data"
    }
   ],
   "source": [
    "import matplotlib.pyplot as plt\n",
    "\n",
    "plt.plot(model.loss)"
   ]
  },
  {
   "cell_type": "code",
   "execution_count": 11,
   "metadata": {},
   "outputs": [],
   "source": [
    "# Accuracy seems too high, sanity check to make sure labels are not leaked\n",
    "\n",
    "for axis, _ in enumerate(x_test.T):\n",
    "    corrmat = np.corrcoef(x_test.T[axis], y_test)\n",
    "    # print(corrmat[0][1], corrmat[1][0])\n",
    "    if (corrmat[0][1] > .7):\n",
    "        print(\"corr is \", corrmat[0][1], \"at axis \", axis)\n"
   ]
  }
 ],
 "metadata": {
  "kernelspec": {
   "display_name": "venvpath",
   "language": "python",
   "name": "python3"
  },
  "language_info": {
   "codemirror_mode": {
    "name": "ipython",
    "version": 3
   },
   "file_extension": ".py",
   "mimetype": "text/x-python",
   "name": "python",
   "nbconvert_exporter": "python",
   "pygments_lexer": "ipython3",
   "version": "3.12.3"
  }
 },
 "nbformat": 4,
 "nbformat_minor": 2
}
