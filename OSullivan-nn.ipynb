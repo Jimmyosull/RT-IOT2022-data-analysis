{
 "cells": [
  {
   "cell_type": "code",
   "execution_count": 1,
   "metadata": {},
   "outputs": [],
   "source": [
    "import numpy as np\n",
    "from nn import *\n"
   ]
  },
  {
   "cell_type": "code",
   "execution_count": 2,
   "metadata": {},
   "outputs": [],
   "source": [
    "from ucimlrepo import fetch_ucirepo\n",
    "\n",
    "# Check if data exists, download if required\n",
    "rt_iot2022 = fetch_ucirepo(id=942) "
   ]
  },
  {
   "cell_type": "code",
   "execution_count": 3,
   "metadata": {},
   "outputs": [
    {
     "name": "stderr",
     "output_type": "stream",
     "text": [
      "/tmp/ipykernel_734548/875652746.py:7: FutureWarning: Series.__getitem__ treating keys as positions is deprecated. In a future version, integer keys will always be treated as labels (consistent with DataFrame behavior). To access a value by position, use `ser.iloc[pos]`\n",
      "  if unique[i] <= 1:\n"
     ]
    },
    {
     "name": "stdout",
     "output_type": "stream",
     "text": [
      "Removing bwd_URG_flag_count\n"
     ]
    }
   ],
   "source": [
    "# Remove axes that don't contribute to data, and get labels\n",
    "features = rt_iot2022.data.features\n",
    "targets = rt_iot2022.data.targets\n",
    "\n",
    "unique = features.nunique(axis=0)\n",
    "for i in range(len(unique)):\n",
    "    if unique[i] <= 1:\n",
    "        print(\"Removing\", features.axes[1][i])\n",
    "        del features[features.axes[1][i]]\n",
    "# bwd_URG_flag count is always the same, usually removed\n",
    "\n",
    "# Get labels for data (attack or normal behavior)\n",
    "normal_patterns = [\"MQTT_Publish\", \"Thing_Speak\", \"Wipro_bulb\", \"Amazon-Alexa\"]\n",
    "y_bool = [int(x in normal_patterns) for x in targets.values]"
   ]
  },
  {
   "cell_type": "code",
   "execution_count": 4,
   "metadata": {},
   "outputs": [],
   "source": [
    "# convert string to numerical\n",
    "unique_service = list(features[\"service\"].unique())\n",
    "unique_proto = list(features[\"proto\"].unique())\n",
    "for i in range(len(features[\"service\"])):\n",
    "    features.loc[i, \"service\"] = unique_service.index(features[\"service\"][i])\n",
    "    features.loc[i, \"proto\"] = unique_proto.index(features[\"proto\"][i])"
   ]
  },
  {
   "cell_type": "code",
   "execution_count": 5,
   "metadata": {},
   "outputs": [],
   "source": [
    "# use only continous vars\n",
    "continuous_vars = rt_iot2022.variables[rt_iot2022.variables['type'] == \"Continuous\"]['name'].tolist()\n",
    "features = features[continuous_vars]"
   ]
  },
  {
   "cell_type": "code",
   "execution_count": 6,
   "metadata": {},
   "outputs": [
    {
     "data": {
      "text/plain": [
       "(123117, 57)"
      ]
     },
     "execution_count": 6,
     "metadata": {},
     "output_type": "execute_result"
    }
   ],
   "source": [
    "# fit all data from -1 to 1\n",
    "def normalize_axis(axis):\n",
    "    return (axis - axis.min()) / (axis.max() - axis.min())\n",
    "\n",
    "X = features.values\n",
    "X = X.T\n",
    "for idx in range(len(X)):\n",
    "    X[idx] = normalize_axis(X[idx]) \n",
    "X = X.T\n",
    "X = X.astype('float64')\n",
    "\n",
    "X.shape"
   ]
  },
  {
   "cell_type": "code",
   "execution_count": 7,
   "metadata": {},
   "outputs": [],
   "source": [
    "# Split data into train/test sets\n",
    "y = np.array(y_bool)\n",
    "np.random.seed(2)\n",
    "\n",
    "test_split = .2\n",
    "test_samples = int(len(X) * test_split)\n",
    "perm  = np.random.permutation(len(X))\n",
    "X = X[perm]\n",
    "y = y[perm]\n",
    "\n",
    "x_train = X[0:test_samples]\n",
    "y_train = y[0:test_samples]\n",
    "x_test  = X[test_samples:]\n",
    "y_test  = y[test_samples:]"
   ]
  },
  {
   "cell_type": "code",
   "execution_count": 8,
   "metadata": {},
   "outputs": [],
   "source": [
    "x_train = x_train.reshape((x_train.shape[0], 1, -1))\n",
    "x_test = x_test.reshape((x_test.shape[0],1,-1))"
   ]
  },
  {
   "cell_type": "code",
   "execution_count": 9,
   "metadata": {},
   "outputs": [],
   "source": [
    "model = Network()\n",
    "# model.add(FullyConnected(82, 100)) # version for all features\n",
    "model.add(FullyConnected(57, 100)) # version for continous features\n",
    "\n",
    "model.add(Activation(tanh, tanh_prime))\n",
    "model.add(FullyConnected(100, 50))\n",
    "model.add(Activation(tanh, tanh_prime))\n",
    "model.add(FullyConnected(50, 1))\n",
    "model.add(Activation(tanh, tanh_prime))\n",
    "\n",
    "model.use_loss(mse, mse_prime)"
   ]
  },
  {
   "cell_type": "code",
   "execution_count": 10,
   "metadata": {},
   "outputs": [
    {
     "name": "stdout",
     "output_type": "stream",
     "text": [
      "epoch 0/40      error=0.04099718000346193\n",
      "epoch 1/40      error=0.03127919968289982\n",
      "epoch 2/40      error=0.028295949958166217\n",
      "epoch 3/40      error=0.02642421173177731\n",
      "epoch 4/40      error=0.024878279228124797\n",
      "epoch 5/40      error=0.023495049545049586\n",
      "epoch 6/40      error=0.022198653465281687\n",
      "epoch 7/40      error=0.020930818951667502\n",
      "epoch 8/40      error=0.01968678018999543\n",
      "epoch 9/40      error=0.01857841307297109\n",
      "epoch 10/40      error=0.017674853582519273\n",
      "epoch 11/40      error=0.016924562965505874\n",
      "epoch 12/40      error=0.016273045712125664\n",
      "epoch 13/40      error=0.015690627724538622\n",
      "epoch 14/40      error=0.015159400040236923\n",
      "epoch 15/40      error=0.014664825662085155\n",
      "epoch 16/40      error=0.014194526132118421\n",
      "epoch 17/40      error=0.013742267929741812\n",
      "epoch 18/40      error=0.013309092803298258\n",
      "epoch 19/40      error=0.01289983487970565\n",
      "epoch 20/40      error=0.012518894508465125\n",
      "epoch 21/40      error=0.012168144711098653\n",
      "epoch 22/40      error=0.011847144473778685\n",
      "epoch 23/40      error=0.011553800160653922\n",
      "epoch 24/40      error=0.011285075933053258\n",
      "epoch 25/40      error=0.011038079294519458\n",
      "epoch 26/40      error=0.010810697573688504\n",
      "epoch 27/40      error=0.010601467112885348\n",
      "epoch 28/40      error=0.010409105159344168\n",
      "epoch 29/40      error=0.010232157256615488\n",
      "epoch 30/40      error=0.010069029174845362\n",
      "epoch 31/40      error=0.009918215552623195\n",
      "epoch 32/40      error=0.009778367795880602\n",
      "epoch 33/40      error=0.009648245407155937\n",
      "epoch 34/40      error=0.009526673766948534\n",
      "epoch 35/40      error=0.009412534898569691\n",
      "epoch 36/40      error=0.009304773187306763\n",
      "epoch 37/40      error=0.009202400453024544\n",
      "epoch 38/40      error=0.00910452766754976\n",
      "epoch 39/40      error=0.009010503683402995\n"
     ]
    }
   ],
   "source": [
    "model.fit(x_train, y_train, 40, .01)"
   ]
  },
  {
   "cell_type": "code",
   "execution_count": 11,
   "metadata": {},
   "outputs": [
    {
     "name": "stdout",
     "output_type": "stream",
     "text": [
      "pos_acc: 0.9660484443093139, neg_acc: 0.994426077831812\n",
      "NN raw accuracy is: 0.9915832436493593\n",
      "Balanced Acc is:  0.980237261070563\n"
     ]
    }
   ],
   "source": [
    "predicted_class = np.array(model.predict(x_test))\n",
    "predicted = predicted_class > .5\n",
    "predicted = np.ravel(predicted)\n",
    "\n",
    "true_positive = 0\n",
    "true_negative = 0\n",
    "false_positive = 0\n",
    "false_negative = 0\n",
    "for i in range(len(predicted)):\n",
    "    if predicted[i] == 1:\n",
    "        if predicted[i] == y_test[i]:\n",
    "            true_positive += 1\n",
    "        else:\n",
    "            false_positive += 1\n",
    "    elif predicted[i] == 0:\n",
    "        if predicted[i] == y_test[i]:\n",
    "            true_negative += 1\n",
    "        else:\n",
    "            false_negative += 1\n",
    "\n",
    "pos_acc = true_positive / (true_positive + false_positive)\n",
    "neg_acc = true_negative / (true_negative + false_negative)\n",
    "\n",
    "print(f\"pos_acc: {pos_acc}, neg_acc: {neg_acc}\")\n",
    "\n",
    "print(\"NN raw accuracy is:\", (true_positive + true_negative)/len(predicted))\n",
    "print(\"Balanced Acc is: \", (pos_acc+neg_acc)/2)\n",
    "\n",
    "# TODO: why is this so high, leaking train data? or including id/label?"
   ]
  },
  {
   "cell_type": "code",
   "execution_count": 12,
   "metadata": {},
   "outputs": [
    {
     "data": {
      "text/plain": [
       "[<matplotlib.lines.Line2D at 0x7d772c0c1ee0>]"
      ]
     },
     "execution_count": 12,
     "metadata": {},
     "output_type": "execute_result"
    },
    {
     "data": {
      "image/png": "[encoded data removed]",
      "text/plain": [
       "<Figure size 640x480 with 1 Axes>"
      ]
     },
     "metadata": {},
     "output_type": "display_data"
    }
   ],
   "source": [
    "import matplotlib.pyplot as plt\n",
    "\n",
    "plt.plot(model.losses)"
   ]
  }
 ],
 "metadata": {
  "kernelspec": {
   "display_name": "venvpath",
   "language": "python",
   "name": "python3"
  },
  "language_info": {
   "codemirror_mode": {
    "name": "ipython",
    "version": 3
   },
   "file_extension": ".py",
   "mimetype": "text/x-python",
   "name": "python",
   "nbconvert_exporter": "python",
   "pygments_lexer": "ipython3",
   "version": "3.12.3"
  }
 },
 "nbformat": 4,
 "nbformat_minor": 2
}
