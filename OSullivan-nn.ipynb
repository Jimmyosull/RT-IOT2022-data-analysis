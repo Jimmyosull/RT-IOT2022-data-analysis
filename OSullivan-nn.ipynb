{
 "cells": [
  {
   "cell_type": "code",
   "execution_count": 1,
   "metadata": {},
   "outputs": [],
   "source": [
    "import numpy as np\n",
    "from nn import *"
   ]
  },
  {
   "cell_type": "code",
   "execution_count": 2,
   "metadata": {},
   "outputs": [],
   "source": [
    "from ucimlrepo import fetch_ucirepo\n",
    "import pickle\n",
    "import os\n",
    "\n",
    "# Check if data exists, download if required\n",
    "# save to disk after download to speed up on between runs\n",
    "\n",
    "if os.path.exists(\"./data.pkl\"):\n",
    "    with open(\"./data.pkl\", 'rb') as fp:\n",
    "        rt_iot2022 = pickle.load(fp)\n",
    "else:\n",
    "    rt_iot2022 = fetch_ucirepo(id=942)\n",
    "    with open(\"./data.pkl\", 'wb') as fp:\n",
    "        pickle.dump(rt_iot2022, fp)"
   ]
  },
  {
   "cell_type": "code",
   "execution_count": 3,
   "metadata": {},
   "outputs": [
    {
     "name": "stderr",
     "output_type": "stream",
     "text": [
      "/tmp/ipykernel_1089446/875652746.py:7: FutureWarning: Series.__getitem__ treating keys as positions is deprecated. In a future version, integer keys will always be treated as labels (consistent with DataFrame behavior). To access a value by position, use `ser.iloc[pos]`\n",
      "  if unique[i] <= 1:\n"
     ]
    },
    {
     "name": "stdout",
     "output_type": "stream",
     "text": [
      "Removing bwd_URG_flag_count\n"
     ]
    }
   ],
   "source": [
    "# Remove axes that don't contribute to data, and get labels\n",
    "features = rt_iot2022.data.features\n",
    "targets = rt_iot2022.data.targets\n",
    "\n",
    "unique = features.nunique(axis=0)\n",
    "for i in range(len(unique)):\n",
    "    if unique[i] <= 1:\n",
    "        print(\"Removing\", features.axes[1][i])\n",
    "        del features[features.axes[1][i]]\n",
    "# bwd_URG_flag count is always the same, usually removed\n",
    "\n",
    "# Get labels for data (attack or normal behavior)\n",
    "normal_patterns = [\"MQTT_Publish\", \"Thing_Speak\", \"Wipro_bulb\", \"Amazon-Alexa\"]\n",
    "y_bool = [int(x in normal_patterns) for x in targets.values]"
   ]
  },
  {
   "cell_type": "code",
   "execution_count": 4,
   "metadata": {},
   "outputs": [],
   "source": [
    "# convert string to numerical\n",
    "unique_service = list(features[\"service\"].unique())\n",
    "unique_proto = list(features[\"proto\"].unique())\n",
    "for i in range(len(features[\"service\"])):\n",
    "    features.loc[i, \"service\"] = unique_service.index(features[\"service\"][i])\n",
    "    features.loc[i, \"proto\"] = unique_proto.index(features[\"proto\"][i])"
   ]
  },
  {
   "cell_type": "code",
   "execution_count": 5,
   "metadata": {},
   "outputs": [],
   "source": [
    "# use only continous vars\n",
    "# continuous_vars = rt_iot2022.variables[rt_iot2022.variables['type'] == \"Continuous\"]['name'].tolist()\n",
    "# features = features[continuous_vars]"
   ]
  },
  {
   "cell_type": "code",
   "execution_count": 6,
   "metadata": {},
   "outputs": [
    {
     "data": {
      "text/plain": [
       "(123117, 82)"
      ]
     },
     "execution_count": 6,
     "metadata": {},
     "output_type": "execute_result"
    }
   ],
   "source": [
    "# fit all data from -1 to 1\n",
    "def normalize_axis(axis):\n",
    "    return (axis - axis.min()) / (axis.max() - axis.min())\n",
    "\n",
    "X = features.values\n",
    "X = X.T\n",
    "for idx in range(len(X)):\n",
    "    X[idx] = normalize_axis(X[idx]) \n",
    "X = X.T\n",
    "X = X.astype('float64')\n",
    "\n",
    "X.shape"
   ]
  },
  {
   "cell_type": "code",
   "execution_count": 7,
   "metadata": {},
   "outputs": [],
   "source": [
    "# Split data into train/test sets\n",
    "y = np.array(y_bool)\n",
    "np.random.seed(2)\n",
    "\n",
    "test_split = .2\n",
    "test_samples = int(len(X) * test_split)\n",
    "perm  = np.random.permutation(len(X))\n",
    "X = X[perm]\n",
    "y = y[perm]\n",
    "\n",
    "x_train = X[0:test_samples]\n",
    "y_train = y[0:test_samples]\n",
    "x_test  = X[test_samples:]\n",
    "y_test  = y[test_samples:]"
   ]
  },
  {
   "cell_type": "code",
   "execution_count": 8,
   "metadata": {},
   "outputs": [],
   "source": [
    "x_train = x_train.reshape((x_train.shape[0], 1, -1))\n",
    "x_test = x_test.reshape((x_test.shape[0],1,-1))"
   ]
  },
  {
   "cell_type": "code",
   "execution_count": 16,
   "metadata": {},
   "outputs": [],
   "source": [
    "model = Network()\n",
    "model.add(FullyConnected(x_train.shape[2], 100))\n",
    "model.add(Activation(tanh, tanh_prime))\n",
    "model.add(FullyConnected(100, 50))\n",
    "model.add(Activation(tanh, tanh_prime))\n",
    "model.add(FullyConnected(50, 1))\n",
    "model.add(Activation(tanh, tanh_prime))\n",
    "\n",
    "model.use_loss(mse, mse_prime)"
   ]
  },
  {
   "cell_type": "code",
   "execution_count": 17,
   "metadata": {},
   "outputs": [
    {
     "name": "stdout",
     "output_type": "stream",
     "text": [
      "epoch 0/100      error=0.03353404372686378\n",
      "epoch 1/100      error=0.023354348334273606\n",
      "epoch 2/100      error=0.020846237853998376\n",
      "epoch 3/100      error=0.019286022411351696\n",
      "epoch 4/100      error=0.01808842707078467\n",
      "epoch 5/100      error=0.017094447299062978\n",
      "epoch 6/100      error=0.0162392844637169\n",
      "epoch 7/100      error=0.015465139316637061\n",
      "epoch 8/100      error=0.014742228997404093\n",
      "epoch 9/100      error=0.01405434932299565\n",
      "epoch 10/100      error=0.013395936307861686\n",
      "epoch 11/100      error=0.01276682448710886\n",
      "epoch 12/100      error=0.012172524290860852\n",
      "epoch 13/100      error=0.011621607311810576\n",
      "epoch 14/100      error=0.011119624026260506\n",
      "epoch 15/100      error=0.010666795776140105\n",
      "epoch 16/100      error=0.010258456735547318\n",
      "epoch 17/100      error=0.009887959067763552\n",
      "epoch 18/100      error=0.00955284917768064\n",
      "epoch 19/100      error=0.009252596322959007\n",
      "epoch 20/100      error=0.008983947035571765\n",
      "epoch 21/100      error=0.008742204099004539\n",
      "epoch 22/100      error=0.008523171416133743\n",
      "epoch 23/100      error=0.008323512929252479\n",
      "epoch 24/100      error=0.008140552826169269\n",
      "epoch 25/100      error=0.007972042996313627\n",
      "epoch 26/100      error=0.007816029316648673\n",
      "epoch 27/100      error=0.007670809954681825\n",
      "epoch 28/100      error=0.0075349340153096946\n",
      "epoch 29/100      error=0.007407201372131547\n",
      "epoch 30/100      error=0.007286651113332897\n",
      "epoch 31/100      error=0.007172538165751076\n",
      "epoch 32/100      error=0.0070642978980399885\n",
      "epoch 33/100      error=0.006961500330955986\n",
      "epoch 34/100      error=0.006863802757605524\n",
      "epoch 35/100      error=0.006770913407436777\n",
      "epoch 36/100      error=0.006682572657895598\n",
      "epoch 37/100      error=0.006598547925187489\n",
      "epoch 38/100      error=0.006518632945190678\n",
      "epoch 39/100      error=0.0064426437161267764\n",
      "epoch 40/100      error=0.006370408465993146\n",
      "epoch 41/100      error=0.006301753914772184\n",
      "epoch 42/100      error=0.0062364922519953245\n",
      "epoch 43/100      error=0.006174411769825924\n",
      "epoch 44/100      error=0.006115270753471542\n",
      "epoch 45/100      error=0.00605879178035814\n",
      "epoch 46/100      error=0.006004653330036274\n",
      "epoch 47/100      error=0.005952479447827591\n",
      "epoch 48/100      error=0.00590184347549148\n",
      "epoch 49/100      error=0.005852342565493321\n",
      "epoch 50/100      error=0.005803841260938949\n",
      "epoch 51/100      error=0.005756711996419351\n",
      "epoch 52/100      error=0.005711262865006543\n",
      "epoch 53/100      error=0.005667290160726638\n",
      "epoch 54/100      error=0.005622650466892199\n",
      "epoch 55/100      error=0.005574641743787836\n",
      "epoch 56/100      error=0.005527321891413769\n",
      "epoch 57/100      error=0.005485694396955984\n",
      "epoch 58/100      error=0.005447572889992427\n",
      "epoch 59/100      error=0.0054108608785434055\n",
      "epoch 60/100      error=0.0053749129167495815\n",
      "epoch 61/100      error=0.005339424621825603\n",
      "epoch 62/100      error=0.005304238175778997\n",
      "epoch 63/100      error=0.005269308890198191\n",
      "epoch 64/100      error=0.005234692675860372\n",
      "epoch 65/100      error=0.005200537808906072\n",
      "epoch 66/100      error=0.005167052060727034\n",
      "epoch 67/100      error=0.005134433229475147\n",
      "epoch 68/100      error=0.005102783472179071\n",
      "epoch 69/100      error=0.00507205351992402\n",
      "epoch 70/100      error=0.0050420543069122905\n",
      "epoch 71/100      error=0.005012530884716948\n",
      "epoch 72/100      error=0.004983262648233113\n",
      "epoch 73/100      error=0.00495413547349112\n",
      "epoch 74/100      error=0.004925141630540076\n",
      "epoch 75/100      error=0.004896327722843292\n",
      "epoch 76/100      error=0.004867743529974048\n",
      "epoch 77/100      error=0.004839417581665927\n",
      "epoch 78/100      error=0.004811355559099257\n",
      "epoch 79/100      error=0.004783549268481751\n",
      "epoch 80/100      error=0.004755987234533365\n",
      "epoch 81/100      error=0.004728662831081998\n",
      "epoch 82/100      error=0.004701578940675302\n",
      "epoch 83/100      error=0.004674749439883147\n",
      "epoch 84/100      error=0.004648198176171417\n",
      "epoch 85/100      error=0.004621956207954659\n",
      "epoch 86/100      error=0.004596058209744441\n",
      "epoch 87/100      error=0.004570539020481591\n",
      "epoch 88/100      error=0.004545431094467253\n",
      "epoch 89/100      error=0.004520763073315903\n",
      "epoch 90/100      error=0.004496559182849949\n",
      "epoch 91/100      error=0.0044728390671561705\n",
      "epoch 92/100      error=0.004449618006132201\n",
      "epoch 93/100      error=0.004426907817235625\n",
      "epoch 94/100      error=0.004404718691483839\n",
      "epoch 95/100      error=0.0043830616989816275\n",
      "epoch 96/100      error=0.004361951102952372\n",
      "epoch 97/100      error=0.004341405466892801\n",
      "epoch 98/100      error=0.0043214470275512755\n",
      "epoch 99/100      error=0.004302099611335784\n"
     ]
    }
   ],
   "source": [
    "model.fit(x_train, y_train, 100, .01)\n",
    "# model.fit(x_train, y_train, 40, .01)"
   ]
  },
  {
   "cell_type": "code",
   "execution_count": 21,
   "metadata": {},
   "outputs": [
    {
     "name": "stdout",
     "output_type": "stream",
     "text": [
      "Took 0.8044967651367188\n",
      "pos_acc: 0.9709843533372945, neg_acc: 0.9974998868727092\n",
      "NN raw accuracy is: 0.9947814080045485\n",
      "Balanced Acc is:  0.9842421201050018\n"
     ]
    }
   ],
   "source": [
    "import time\n",
    "\n",
    "start = time.time()\n",
    "\n",
    "predicted_class = np.array(model.predict(x_test))\n",
    "predicted = predicted_class > .5\n",
    "predicted = np.ravel(predicted)\n",
    "\n",
    "print(f\"Took {time.time() - start}\")\n",
    "\n",
    "true_positive = 0\n",
    "true_negative = 0\n",
    "false_positive = 0\n",
    "false_negative = 0\n",
    "for i in range(len(predicted)):\n",
    "    if predicted[i] == 1:\n",
    "        if predicted[i] == y_test[i]:\n",
    "            true_positive += 1\n",
    "        else:\n",
    "            false_positive += 1\n",
    "    elif predicted[i] == 0:\n",
    "        if predicted[i] == y_test[i]:\n",
    "            true_negative += 1\n",
    "        else:\n",
    "            false_negative += 1\n",
    "\n",
    "pos_acc = true_positive / (true_positive + false_positive)\n",
    "neg_acc = true_negative / (true_negative + false_negative)\n",
    "\n",
    "print(f\"pos_acc: {pos_acc}, neg_acc: {neg_acc}\")\n",
    "\n",
    "print(\"NN raw accuracy is:\", (true_positive + true_negative)/len(predicted))\n",
    "print(\"Balanced Acc is: \", (pos_acc+neg_acc)/2)\n",
    "\n",
    "# TODO: why is this so high, leaking train data? or including id/label?"
   ]
  },
  {
   "cell_type": "code",
   "execution_count": 19,
   "metadata": {},
   "outputs": [
    {
     "data": {
      "text/plain": [
       "[<matplotlib.lines.Line2D at 0x731be6f8ec00>]"
      ]
     },
     "execution_count": 19,
     "metadata": {},
     "output_type": "execute_result"
    },
    {
     "data": {
      "image/png": "[encoded data removed]",
      "text/plain": [
       "<Figure size 640x480 with 1 Axes>"
      ]
     },
     "metadata": {},
     "output_type": "display_data"
    }
   ],
   "source": [
    "import matplotlib.pyplot as plt\n",
    "\n",
    "plt.plot(model.losses)"
   ]
  },
  {
   "cell_type": "code",
   "execution_count": null,
   "metadata": {},
   "outputs": [],
   "source": []
  }
 ],
 "metadata": {
  "kernelspec": {
   "display_name": "venvpath",
   "language": "python",
   "name": "python3"
  },
  "language_info": {
   "codemirror_mode": {
    "name": "ipython",
    "version": 3
   },
   "file_extension": ".py",
   "mimetype": "text/x-python",
   "name": "python",
   "nbconvert_exporter": "python",
   "pygments_lexer": "ipython3",
   "version": "3.12.3"
  }
 },
 "nbformat": 4,
 "nbformat_minor": 2
}
